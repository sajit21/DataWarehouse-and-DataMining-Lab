{
 "cells": [
  {
   "cell_type": "code",
   "execution_count": null,
   "id": "17243159-1dcb-45f5-b48d-5f064fcc77a8",
   "metadata": {},
   "outputs": [],
   "source": []
  }
 ],
 "metadata": {
  "kernelspec": {
   "display_name": "",
   "name": ""
  },
  "language_info": {
   "name": ""
  }
 },
 "nbformat": 4,
 "nbformat_minor": 5
}
