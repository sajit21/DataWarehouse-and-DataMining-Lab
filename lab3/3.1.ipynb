{
 "cells": [
  {
   "cell_type": "code",
   "execution_count": 2,
   "id": "054dee5a-71b3-4ffe-a7c3-569d84d4b6bb",
   "metadata": {},
   "outputs": [
    {
     "name": "stdout",
     "output_type": "stream",
     "text": [
      "Cluster Centers: [4.14285714 6.14285714] [2.28571429 2.71428571]\n",
      "Cluster Labels: 0 1 1 0 0 1 0 0 1 1 0 1 0 1\n",
      "Cluster 1: [(2, 8), (4, 6), (3, 5), (5, 7), (4, 8), (4, 5), (7, 4)]\n",
      "Cluster 2: [(3, 2), (1, 4), (2, 3), (4, 2), (1, 3), (3, 4), (2, 1)]\n"
     ]
    },
    {
     "data": {
      "image/png": "[encoded data removed]",
      "text/plain": [
       "<Figure size 300x300 with 1 Axes>"
      ]
     },
     "metadata": {},
     "output_type": "display_data"
    }
   ],
   "source": [
    "#Lab 3.1. Write a python program to divide the dataset [(2,8),(3,2),(1,4),(4,6),(3,5),(2,3),(5,7),\n",
    "#(4,8),(4,2),(1,3),(4,5),(3,4),(7,4),(2,1)] into two clusters using KMeans algorithm.\n",
    "import numpy as np\n",
    "import matplotlib.pyplot as plt\n",
    "from sklearn.cluster import KMeans\n",
    "\n",
    "data=[(2,8),(3,2),(1,4),(4,6),(3,5),(2,3),(5,7),(4,8),(4,2),(1,3),(4,5),(3,4),(7,4),(2,1)]\n",
    "km=KMeans(n_clusters=2,init='random')\n",
    "km.fit(data) \n",
    "centers = km.cluster_centers_\n",
    "labels = km.labels_\n",
    "print(\"Cluster Centers:\",*centers)\n",
    "print(\"Cluster Labels:\",*labels)\n",
    "#Diaplaying Clusters\n",
    "cluster1=[]\n",
    "cluster2=[]\n",
    "for i in range(len(labels)):\n",
    "  if (labels[i]==0):\n",
    "    cluster1.append(data[i])\n",
    "  else:\n",
    "    cluster2.append(data[i])\n",
    "print(\"Cluster 1:\",cluster1)\n",
    "print(\"Cluster 2:\",cluster2)\n",
    "\n",
    "#Visualizing Clusters\n",
    "plt.figure(figsize=(3,3))\n",
    "c=list(zip(*cluster1))\n",
    "x=c[0] #tuple of x xoordinstes\n",
    "y=c[1] #tuple of y xoordinstes\n",
    "plt.scatter(x,y, marker=\"+\",color='red')\n",
    "c=list(zip(*cluster2))\n",
    "x=c[0] #tuple of x xoordinstes\n",
    "y=c[1] #tuple of y xoordinstes\n",
    "plt.scatter(x,y,marker=\"x\",color='green')\n",
    "\n",
    "#Visualizing Cluster centers\n",
    "plt.scatter(centers[:, 0],centers[:, 1], marker = \"o\", s=25)\n",
    "plt.show()\n"
   ]
  },
  {
   "cell_type": "code",
   "execution_count": null,
   "id": "ddc8968a-f0e7-47c3-8628-d39e200b4f3b",
   "metadata": {},
   "outputs": [],
   "source": []
  }
 ],
 "metadata": {
  "kernelspec": {
   "display_name": "Python 3 (ipykernel)",
   "language": "python",
   "name": "python3"
  },
  "language_info": {
   "codemirror_mode": {
    "name": "ipython",
    "version": 3
   },
   "file_extension": ".py",
   "mimetype": "text/x-python",
   "name": "python",
   "nbconvert_exporter": "python",
   "pygments_lexer": "ipython3",
   "version": "3.10.11"
  }
 },
 "nbformat": 4,
 "nbformat_minor": 5
}
