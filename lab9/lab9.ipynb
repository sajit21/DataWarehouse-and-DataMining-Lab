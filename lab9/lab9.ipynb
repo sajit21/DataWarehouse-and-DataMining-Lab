{
 "cells": [
  {
   "cell_type": "code",
   "execution_count": 5,
   "id": "aea1e578-d3f7-4520-b8a6-ec68d4d92193",
   "metadata": {},
   "outputs": [],
   "source": [
    "# Lab 9: Multiclass Classification using Feed Forward Neural Network (MLP)\n",
    "\n",
    "# Step 1: Import necessary libraries\n",
    "import pandas as pd\n",
    "import numpy as np\n",
    "from sklearn import metrics\n",
    "from sklearn.preprocessing import LabelEncoder, StandardScaler\n",
    "from sklearn.utils import shuffle\n",
    "from tensorflow.keras.utils import to_categorical\n",
    "from tensorflow.keras.models import Sequential\n",
    "from tensorflow.keras.layers import Dense\n",
    "\n",
    "# Step 2: Load the dataset\n",
    "file_path = r'C:\\Users\\Sajit\\OneDrive\\Desktop\\data mining\\datasets\\iris.csv'\n",
    "dataset = pd.read_csv(file_path)\n",
    "\n",
    "# Step 3: Shuffle and convert to NumPy array\n",
    "dataset = shuffle(dataset)\n",
    "dataset = dataset.values\n",
    "\n",
    "# Step 4: Separate features and target\n",
    "X = dataset[:, 0:4].astype(float)\n",
    "y = dataset[:, 4]\n",
    "\n",
    "# Step 5: Encode target labels as integers, then one-hot encode\n",
    "encoder = LabelEncoder()\n",
    "y_encoded = encoder.fit_transform(y)\n",
    "y_onehot = to_categorical(y_encoded)\n",
    "\n",
    "# Step 6: Normalize input features\n",
    "scaler = StandardScaler().fit(X)\n",
    "X_scaled = scaler.transform(X)\n",
    "\n",
    "# Step 7: Train/Test Split (70/30)\n",
    "split = int(len(X) * 0.7)\n",
    "X_train, X_test = X_scaled[:split], X_scaled[split:]\n",
    "y_train, y_test = y_onehot[:split], y_onehot[split:]\n",
    "\n"
   ]
  },
  {
   "cell_type": "code",
   "execution_count": null,
   "id": "4eb9efb7-1f00-4e13-8bf7-4de3a594f68a",
   "metadata": {},
   "outputs": [],
   "source": []
  }
 ],
 "metadata": {
  "kernelspec": {
   "display_name": "Python 3 (ipykernel)",
   "language": "python",
   "name": "python3"
  },
  "language_info": {
   "codemirror_mode": {
    "name": "ipython",
    "version": 3
   },
   "file_extension": ".py",
   "mimetype": "text/x-python",
   "name": "python",
   "nbconvert_exporter": "python",
   "pygments_lexer": "ipython3",
   "version": "3.10.11"
  }
 },
 "nbformat": 4,
 "nbformat_minor": 5
}
