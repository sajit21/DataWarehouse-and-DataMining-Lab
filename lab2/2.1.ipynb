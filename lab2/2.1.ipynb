{
 "cells": [
  {
   "cell_type": "code",
   "execution_count": 1,
   "id": "31292651-ebcb-4289-9695-0d74b1d5112b",
   "metadata": {},
   "outputs": [],
   "source": [
    "import pandas as pd"
   ]
  },
  {
   "cell_type": "code",
   "execution_count": 2,
   "id": "7b2e8eae-ca7e-4164-a0d3-34b525509c18",
   "metadata": {},
   "outputs": [],
   "source": [
    "import numpy as np"
   ]
  },
  {
   "cell_type": "code",
   "execution_count": 3,
   "id": "baa8e555-70e6-4641-88a6-8c35844fc61a",
   "metadata": {},
   "outputs": [],
   "source": [
    "file_path = r'C:\\Users\\Sajit\\OneDrive\\Desktop\\data mining\\datasets\\employees.csv'"
   ]
  },
  {
   "cell_type": "code",
   "execution_count": 4,
   "id": "f9e2cdf0-2556-41a9-838f-3af236392f10",
   "metadata": {},
   "outputs": [],
   "source": [
    "data = pd.read_csv(file_path)\n"
   ]
  },
  {
   "cell_type": "code",
   "execution_count": 5,
   "id": "7e14bbd3-c152-4303-ab57-0c7916fa2a44",
   "metadata": {},
   "outputs": [
    {
     "name": "stdout",
     "output_type": "stream",
     "text": [
      "Original Data\n",
      "     First Name  Gender    Salary  Bonus %                  Team\n",
      "0       Douglas    Male   97308.0    6.945                   MKT\n",
      "1       Douglas    Male   97308.0    6.945                   MKT\n",
      "2        Thomas    Male   61933.0    4.170                   NaN\n",
      "3         Maria  Female  130590.0   11.858                   FIN\n",
      "4         Jerry    Male  138705.0    9.340               Finance\n",
      "...         ...     ...       ...      ...                   ...\n",
      "997       Henry     NaN  132483.0   16.655          Distribution\n",
      "998     Phillip    Male   42392.0   19.675               Finance\n",
      "999     Russell    Male   96914.0    1.421               Product\n",
      "1000      Larry    Male   60500.0   11.985  Business Development\n",
      "1001     Albert    Male  129949.0   10.169                 Sales\n",
      "\n",
      "[1002 rows x 5 columns]\n"
     ]
    }
   ],
   "source": [
    "print(\"Original Data\")\n",
    "print(data)"
   ]
  },
  {
   "cell_type": "code",
   "execution_count": 6,
   "id": "04cd4241-01a7-49da-bf0c-4ae76bb74d94",
   "metadata": {},
   "outputs": [],
   "source": [
    "data = data.dropna(axis=0)"
   ]
  },
  {
   "cell_type": "code",
   "execution_count": 7,
   "id": "bba996ff-f615-487e-bd23-d86cbc045024",
   "metadata": {},
   "outputs": [],
   "source": [
    "data = data.drop_duplicates(keep='first')\n"
   ]
  },
  {
   "cell_type": "code",
   "execution_count": 8,
   "id": "56c8c301-fe42-43a3-b719-0fa8db0fa96c",
   "metadata": {},
   "outputs": [],
   "source": [
    "if 'Bonus %' in data.columns:\n",
    "    del data['Bonus %']"
   ]
  },
  {
   "cell_type": "code",
   "execution_count": 9,
   "id": "65298005-75ed-4580-bdac-38691c4e9439",
   "metadata": {},
   "outputs": [],
   "source": [
    "data['Team'] = data['Team'].str.replace('Fin', 'Finance', regex=False)\n",
    "data['Team'] = data['Team'].str.replace('Mkt', 'Marketing', regex=False)\n",
    "data['Team'] = data['Team'].str.replace('Financeance', 'Finance', regex=False)"
   ]
  },
  {
   "cell_type": "code",
   "execution_count": 10,
   "id": "d7334d0b-8ade-4e62-afb6-6165eb97484a",
   "metadata": {},
   "outputs": [
    {
     "name": "stdout",
     "output_type": "stream",
     "text": [
      "Cleaned Data\n",
      "     First Name  Gender    Salary                  Team\n",
      "0       Douglas    Male   97308.0                   MKT\n",
      "3         Maria  Female  130590.0                   FIN\n",
      "4         Jerry    Male  138705.0               Finance\n",
      "6        Dennis    Male  115163.0                 Legal\n",
      "7          Ruby  Female   65476.0               Product\n",
      "...         ...     ...       ...                   ...\n",
      "996      George    Male   98874.0             Marketing\n",
      "998     Phillip    Male   42392.0               Finance\n",
      "999     Russell    Male   96914.0               Product\n",
      "1000      Larry    Male   60500.0  Business Development\n",
      "1001     Albert    Male  129949.0                 Sales\n",
      "\n",
      "[763 rows x 4 columns]\n"
     ]
    }
   ],
   "source": [
    "print(\"Cleaned Data\")\n",
    "print(data)"
   ]
  },
  {
   "cell_type": "code",
   "execution_count": 11,
   "id": "6657dc01-1ecb-4a74-a664-b2b7a548d644",
   "metadata": {},
   "outputs": [],
   "source": [
    "output_path = r'C:\\Users\\Sajit\\OneDrive\\Desktop\\data mining\\datasets\\employee.csv'\n",
    "data.to_csv(output_path, index=False)"
   ]
  },
  {
   "cell_type": "code",
   "execution_count": 12,
   "id": "00260ee4-7b50-4543-b692-2828dfa818f1",
   "metadata": {},
   "outputs": [
    {
     "name": "stdout",
     "output_type": "stream",
     "text": [
      "\n",
      "Cleaned data saved to:\n",
      "C:\\Users\\Sajit\\OneDrive\\Desktop\\data mining\\datasets\\employee.csv\n"
     ]
    }
   ],
   "source": [
    "print(f\"\\nCleaned data saved to:\\n{output_path}\")\n",
    "\n"
   ]
  },
  {
   "cell_type": "code",
   "execution_count": null,
   "id": "90a6beb1-f8ab-424f-a223-91298b14170e",
   "metadata": {},
   "outputs": [],
   "source": []
  }
 ],
 "metadata": {
  "kernelspec": {
   "display_name": "Python 3 (ipykernel)",
   "language": "python",
   "name": "python3"
  },
  "language_info": {
   "codemirror_mode": {
    "name": "ipython",
    "version": 3
   },
   "file_extension": ".py",
   "mimetype": "text/x-python",
   "name": "python",
   "nbconvert_exporter": "python",
   "pygments_lexer": "ipython3",
   "version": "3.10.11"
  }
 },
 "nbformat": 4,
 "nbformat_minor": 5
}
